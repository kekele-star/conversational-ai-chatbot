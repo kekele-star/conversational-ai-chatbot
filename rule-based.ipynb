{
 "cells": [
  {
   "cell_type": "code",
   "execution_count": null,
   "metadata": {},
   "outputs": [],
   "source": [
    "# Common ML Imports\n",
    "import re\n",
    "import random"
   ]
  },
  {
   "cell_type": "code",
   "execution_count": null,
   "metadata": {},
   "outputs": [],
   "source": [
    "class RuleBot:\n",
    "    # Potential Negative Responses\n",
    "    negative_responses = (\"no\", \"nope\", \"naw\", \"not a chance\", \"sorry\")\n",
    "    # exit conversation Keywords\n",
    "    exit_commands = (\"quit\",\"pause\", \"exit\", \"goodbye\", \"bye\", \"later\")\n",
    "\n",
    "    #random starter question\n",
    "    random_questions = (\n",
    "        \"Why are you here1?\",\n",
    "        \"Are there many humans like you?\",\n",
    "        \"What do you consume for sustenance?\",\n",
    "        \"Is there intelligent life on this planet?\",\n",
    "        \"Does Earth have a leader?\",\n",
    "        \"What planets have you visited?\",\n",
    "        \"What technology do you have on this planet?\"\n",
    "    )\n",
    "\n",
    "    def __init__(self) -> None:\n",
    "        "
   ]
  }
 ],
 "metadata": {
  "language_info": {
   "name": "python"
  }
 },
 "nbformat": 4,
 "nbformat_minor": 2
}
